{
 "cells": [
  {
   "cell_type": "code",
   "execution_count": 14,
   "metadata": {
    "collapsed": true
   },
   "outputs": [],
   "source": [
    "import numpy as np\n",
    "import matplotlib.pyplot as plt\n",
    "from sklearn.model_selection import train_test_split\n",
    "from sklearn.svm import OneClassSVM"
   ]
  },
  {
   "cell_type": "code",
   "execution_count": 15,
   "outputs": [
    {
     "name": "stdout",
     "output_type": "stream",
     "text": [
      "[0. 0. 0. ... 1. 1. 1.]\n"
     ]
    }
   ],
   "source": [
    "# training data\n",
    "pp = np.load('../Task3/Task3/perfect_patches.npy')\n",
    "dp = np.load('../Task3/Task3/defect_patches.npy')\n",
    "\n",
    "# test data\n",
    "graphene = np.load('../Task3/Task3/full-stack.npy')\n",
    "\n",
    "# data set of 50/50 perfect to imperfect images\n",
    "patches = np.concatenate([pp, dp])  # matrices\n",
    "gt = np.concatenate([np.zeros(len(pp)), np.ones(len(dp))])  # labels\n",
    "\n",
    "# split training and test data\n",
    "X_train, X_test, y_train, y_test = train_test_split(\n",
    "    patches,\n",
    "    gt,\n",
    "    test_size=0.2,\n",
    "    shuffle=True,\n",
    ")\n",
    "\n",
    "# transform x_train\n",
    "nsamples, nx, ny = X_train.shape\n",
    "X_train_transformed = X_train.reshape((nsamples, nx * ny))\n",
    "\n",
    "# transform x_test\n",
    "nsamples, nx, ny = X_test.shape\n",
    "X_test_transformed = X_test.reshape((nsamples, nx * ny))"
   ],
   "metadata": {
    "collapsed": false,
    "pycharm": {
     "name": "#%%\n"
    }
   }
  },
  {
   "cell_type": "code",
   "execution_count": 16,
   "outputs": [
    {
     "data": {
      "text/plain": "array([0.00931422, 0.06888319, 0.0368489 , ..., 0.02138025, 0.07854724,\n       0.10272958])"
     },
     "execution_count": 16,
     "metadata": {},
     "output_type": "execute_result"
    }
   ],
   "source": [
    "# SVM attempt 1\n",
    "ratio = len(dp) / (len(pp) + len(dp))\n",
    "clf = OneClassSVM(gamma=\"auto\", nu=ratio)\n",
    "y_pred = clf.fit_predict(X_train_transformed)\n",
    "clf.decision_function(X_train_transformed)"
   ],
   "metadata": {
    "collapsed": false,
    "pycharm": {
     "name": "#%%\n"
    }
   }
  },
  {
   "cell_type": "code",
   "execution_count": 17,
   "outputs": [
    {
     "name": "stdout",
     "output_type": "stream",
     "text": [
      "38\n"
     ]
    },
    {
     "data": {
      "text/plain": "<Figure size 432x288 with 1 Axes>",
      "image/png": "[encoded data removed]"
     },
     "metadata": {
      "needs_background": "light"
     },
     "output_type": "display_data"
    }
   ],
   "source": [
    "# translate y labels from 0 -> 1 and 1 -> -1\n",
    "y_train_translated = np.copy(y_train)\n",
    "y_train_translated[y_train_translated == 1] = -1\n",
    "y_train_translated[y_train_translated == 0] = 1\n",
    "\n",
    "# get outliers\n",
    "y_outliers = y_train_translated[y_train_translated != y_pred]\n",
    "print(len(y_outliers))\n",
    "\n",
    "# get indices of outliers\n",
    "indicies = []\n",
    "for i, y_val in enumerate(y_pred):\n",
    "    if y_val != y_train_translated[i]:\n",
    "        indicies.append(i)\n",
    "\n",
    "# show all incorrectly assigned images\n",
    "for i in indicies:\n",
    "    plt.imshow(X_train[i])"
   ],
   "metadata": {
    "collapsed": false,
    "pycharm": {
     "name": "#%%\n"
    }
   }
  },
  {
   "cell_type": "code",
   "execution_count": 18,
   "outputs": [
    {
     "name": "stdout",
     "output_type": "stream",
     "text": [
      "Percentage correct:  97.94372294372295\n"
     ]
    }
   ],
   "source": [
    "print('Percentage correct: ', 100 * np.sum(y_pred == y_train_translated) / len(y_pred))"
   ],
   "metadata": {
    "collapsed": false,
    "pycharm": {
     "name": "#%%\n"
    }
   }
  },
  {
   "cell_type": "code",
   "execution_count": 19,
   "outputs": [
    {
     "data": {
      "text/plain": "<sklearn.metrics._plot.roc_curve.RocCurveDisplay at 0x7fcd1d4fd730>"
     },
     "execution_count": 19,
     "metadata": {},
     "output_type": "execute_result"
    },
    {
     "data": {
      "text/plain": "<Figure size 432x288 with 1 Axes>",
      "image/png": "[encoded data removed]"
     },
     "metadata": {
      "needs_background": "light"
     },
     "output_type": "display_data"
    }
   ],
   "source": [
    "from sklearn.metrics import roc_curve, RocCurveDisplay, auc\n",
    "fpr, tpr, thresholds = roc_curve(y_train_translated, y_pred)\n",
    "roc_auc = auc(fpr, tpr)\n",
    "roc = RocCurveDisplay(fpr=fpr, tpr=tpr, roc_auc=roc_auc)\n",
    "roc.plot()"
   ],
   "metadata": {
    "collapsed": false,
    "pycharm": {
     "name": "#%%\n"
    }
   }
  },
  {
   "cell_type": "code",
   "execution_count": 29,
   "outputs": [
    {
     "name": "stdout",
     "output_type": "stream",
     "text": [
      "[0.30191257 0.2511542  0.75751366 0.14315068 0.22802198]\n"
     ]
    }
   ],
   "source": [
    "from sklearn.model_selection import KFold, cross_val_score\n",
    "kfold = KFold(n_splits=3)\n",
    "results =cross_val_score(clf ,X_train_transformed,y_train_translated, scoring=\"roc_auc\")\n",
    "print(results)"
   ],
   "metadata": {
    "collapsed": false,
    "pycharm": {
     "name": "#%%\n"
    }
   }
  }
 ],
 "metadata": {
  "kernelspec": {
   "display_name": "Python 3",
   "language": "python",
   "name": "python3"
  },
  "language_info": {
   "codemirror_mode": {
    "name": "ipython",
    "version": 2
   },
   "file_extension": ".py",
   "mimetype": "text/x-python",
   "name": "python",
   "nbconvert_exporter": "python",
   "pygments_lexer": "ipython2",
   "version": "2.7.6"
  }
 },
 "nbformat": 4,
 "nbformat_minor": 0
}