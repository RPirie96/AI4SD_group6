{
 "cells": [
  {
   "cell_type": "code",
   "execution_count": 34,
   "metadata": {
    "collapsed": true
   },
   "outputs": [],
   "source": [
    "import numpy as np\n",
    "import matplotlib.pyplot as plt\n",
    "import pandas as pd\n",
    "import random\n",
    "from sklearn.model_selection import train_test_split\n",
    "from sklearn.svm import OneClassSVM\n",
    "from sklearn.linear_model import SGDClassifier"
   ]
  },
  {
   "cell_type": "code",
   "execution_count": 35,
   "outputs": [
    {
     "name": "stdout",
     "output_type": "stream",
     "text": [
      "[0. 0. 0. ... 1. 1. 1.]\n"
     ]
    }
   ],
   "source": [
    "# training data\n",
    "pp = np.load('../Task3/Task3/perfect_patches.npy')\n",
    "dp = np.load('../Task3/Task3/defect_patches.npy')\n",
    "\n",
    "# test data\n",
    "graphene = np.load('../Task3/Task3/full-stack.npy')\n",
    "plt\n",
    "# data set of 50/50 perfect to imperfect images\n",
    "patches = np.concatenate([pp, dp])  # matrices\n",
    "gt = np.concatenate([np.zeros(len(pp)), np.ones(len(dp))])  # labels\n",
    "print(gt)\n",
    "\n",
    "X_train, X_test, y_train, y_test = train_test_split(\n",
    "    patches,\n",
    "    gt,\n",
    "    test_size=0.2,\n",
    "    shuffle=True,\n",
    ")\n",
    "\n",
    "nsamples, nx, ny = X_train.shape\n",
    "X_train_transformed = X_train.reshape((nsamples, nx * ny))\n",
    "\n",
    "nsamples, nx, ny = X_test.shape\n",
    "X_test_transformed = X_test.reshape((nsamples, nx * ny))"
   ],
   "metadata": {
    "collapsed": false,
    "pycharm": {
     "name": "#%%\n"
    }
   }
  },
  {
   "cell_type": "code",
   "execution_count": 36,
   "outputs": [
    {
     "ename": "TypeError",
     "evalue": "len() takes exactly one argument (0 given)",
     "output_type": "error",
     "traceback": [
      "\u001B[0;31m---------------------------------------------------------------------------\u001B[0m",
      "\u001B[0;31mTypeError\u001B[0m                                 Traceback (most recent call last)",
      "Input \u001B[0;32mIn [36]\u001B[0m, in \u001B[0;36m<cell line: 2>\u001B[0;34m()\u001B[0m\n\u001B[1;32m      1\u001B[0m \u001B[38;5;66;03m# SVM attempt 1\u001B[39;00m\n\u001B[0;32m----> 2\u001B[0m ratio \u001B[38;5;241m=\u001B[39m \u001B[38;5;28;43mlen\u001B[39;49m\u001B[43m(\u001B[49m\u001B[43m)\u001B[49m\n\u001B[1;32m      3\u001B[0m clf \u001B[38;5;241m=\u001B[39m OneClassSVM(gamma\u001B[38;5;241m=\u001B[39m\u001B[38;5;124m\"\u001B[39m\u001B[38;5;124mauto\u001B[39m\u001B[38;5;124m\"\u001B[39m, nu\u001B[38;5;241m=\u001B[39mratio)\n\u001B[1;32m      4\u001B[0m y_pred \u001B[38;5;241m=\u001B[39m clf\u001B[38;5;241m.\u001B[39mfit_predict(X_train_transformed)\n",
      "\u001B[0;31mTypeError\u001B[0m: len() takes exactly one argument (0 given)"
     ]
    }
   ],
   "source": [
    "# SVM attempt 1\n",
    "ratio = len()\n",
    "clf = OneClassSVM(gamma=\"auto\", nu=ratio)\n",
    "y_pred = clf.fit_predict(X_train_transformed)\n",
    "clf.decision_function(X_train_transformed)"
   ],
   "metadata": {
    "collapsed": false,
    "pycharm": {
     "name": "#%%\n"
    }
   }
  },
  {
   "cell_type": "code",
   "execution_count": null,
   "outputs": [],
   "source": [
    "y_train_translated = np.copy(y_train)\n",
    "y_train_translated[y_train_translated == 1] = -1\n",
    "y_train_translated[y_train_translated == 0] = 1\n",
    "\n",
    "y_outliers = y_train_translated[y_train_translated != y_pred]\n",
    "\n",
    "print(len(y_outliers))\n",
    "indicies = []\n",
    "for i, y_val in enumerate(y_pred):\n",
    "    if y_val != y_train_translated[i]:\n",
    "        indicies.append(i)\n",
    "\n",
    "print(indicies)\n",
    "plt.imshow(X_train[indicies[5]])"
   ],
   "metadata": {
    "collapsed": false,
    "pycharm": {
     "name": "#%%\n"
    }
   }
  },
  {
   "cell_type": "code",
   "execution_count": null,
   "outputs": [],
   "source": [
    "\n"
   ],
   "metadata": {
    "collapsed": false,
    "pycharm": {
     "name": "#%%\n"
    }
   }
  },
  {
   "cell_type": "code",
   "execution_count": null,
   "outputs": [],
   "source": [
    "\n",
    "\n",
    "print('Percentage correct: ', 100 * np.sum(y_pred == y_train_translated) / len(y_pred))\n"
   ],
   "metadata": {
    "collapsed": false,
    "pycharm": {
     "name": "#%%\n"
    }
   }
  },
  {
   "cell_type": "code",
   "execution_count": null,
   "outputs": [],
   "source": [
    "from sklearn.metrics import roc_curve, RocCurveDisplay, auc\n",
    "fpr, tpr, thresholds = roc_curve(y_train_translated, y_pred)\n",
    "roc_auc = auc(fpr, tpr)\n",
    "roc = RocCurveDisplay(fpr=fpr, tpr=tpr, roc_auc=roc_auc)\n",
    "roc.plot()"
   ],
   "metadata": {
    "collapsed": false,
    "pycharm": {
     "name": "#%%\n"
    }
   }
  }
 ],
 "metadata": {
  "kernelspec": {
   "display_name": "Python 3",
   "language": "python",
   "name": "python3"
  },
  "language_info": {
   "codemirror_mode": {
    "name": "ipython",
    "version": 2
   },
   "file_extension": ".py",
   "mimetype": "text/x-python",
   "name": "python",
   "nbconvert_exporter": "python",
   "pygments_lexer": "ipython2",
   "version": "2.7.6"
  }
 },
 "nbformat": 4,
 "nbformat_minor": 0
}